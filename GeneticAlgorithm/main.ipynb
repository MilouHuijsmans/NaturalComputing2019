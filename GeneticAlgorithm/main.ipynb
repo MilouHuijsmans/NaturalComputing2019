{
 "cells": [
  {
   "cell_type": "code",
   "execution_count": null,
   "metadata": {},
   "outputs": [],
   "source": [
    "#install tensorflow-gpu version 1.12.0. Make sure you run Python 3.6 with Cuda 9.0\n",
    "\n",
    "!pip install tensorflow-gpu == 1.12.0"
   ]
  },
  {
   "cell_type": "code",
   "execution_count": null,
   "metadata": {},
   "outputs": [],
   "source": [
    "###code adapted from the github page: https://github.com/jliphard/DeepEvolve/blob/master/main.py"
   ]
  },
  {
   "cell_type": "code",
   "execution_count": null,
   "metadata": {},
   "outputs": [],
   "source": [
    "#import packages\n",
    "\n",
    "from __future__ import print_function\n",
    "\n",
    "from evolver import Evolver\n",
    "\n",
    "from tqdm import tqdm\n",
    "\n",
    "import logging\n",
    "\n",
    "import sys"
   ]
  },
  {
   "cell_type": "code",
   "execution_count": null,
   "metadata": {},
   "outputs": [],
   "source": [
    "#setup logging\n",
    "\n",
    "logging.basicConfig(\n",
    "    format='%(asctime)s - %(levelname)s - %(message)s',\n",
    "    datefmt='%m/%d/%Y %I:%M:%S %p',\n",
    "    level=logging.INFO\n",
    ")"
   ]
  },
  {
   "cell_type": "code",
   "execution_count": null,
   "metadata": {},
   "outputs": [],
   "source": [
    "def train_genomes(genomes, dataset):\n",
    "    \"\"\"Train each genome.\n",
    "\n",
    "    Args:\n",
    "        genomes (list): Current population of genomes\n",
    "        dataset (str): Dataset to use for training/evaluating\n",
    "\n",
    "    \"\"\"\n",
    "    logging.info(\"***train_genomes(genomes, dataset)***\")\n",
    "\n",
    "    pbar = tqdm(total=len(genomes))\n",
    "\n",
    "    for genome in genomes:\n",
    "        genome.train(dataset)\n",
    "        pbar.update(1)\n",
    "    \n",
    "    pbar.close()"
   ]
  },
  {
   "cell_type": "code",
   "execution_count": null,
   "metadata": {},
   "outputs": [],
   "source": [
    "def get_average_accuracy(genomes):\n",
    "    \"\"\"Get the average accuracy for a group of genomes.\n",
    "\n",
    "    Args:\n",
    "        genomes (list): List of genomes\n",
    "\n",
    "    Returns:\n",
    "        float: The average accuracy of a population of genomes.\n",
    "\n",
    "    \"\"\"\n",
    "    total_accuracy = 0\n",
    "\n",
    "    for genome in genomes:\n",
    "        total_accuracy += genome.accuracy\n",
    "\n",
    "    return total_accuracy / len(genomes)"
   ]
  },
  {
   "cell_type": "code",
   "execution_count": null,
   "metadata": {},
   "outputs": [],
   "source": [
    "def generate(generations, population, all_possible_genes, dataset):\n",
    "    \"\"\"Generate a network with the genetic algorithm.\n",
    "\n",
    "    Args:\n",
    "        generations (int): Number of times to evolve the population\n",
    "        population (int): Number of networks in each generation\n",
    "        all_possible_genes (dict): Hyperparameter choices for networks\n",
    "        dataset (str): Dataset to use for training/evaluating\n",
    "\n",
    "    \"\"\"\n",
    "    logging.info(\"***generate(generations, population, all_possible_genes, dataset)***\")\n",
    "    \n",
    "    evolver = Evolver(all_possible_genes)\n",
    "    \n",
    "    genomes = evolver.create_population(population)\n",
    "\n",
    "    #evolve the generation\n",
    "    for i in range(generations):\n",
    "\n",
    "        logging.info(\"***Now in generation %d of %d***\" % (i + 1, generations))\n",
    "\n",
    "        print_genomes(genomes)\n",
    "        \n",
    "        #train and get accuracy for genomes\n",
    "        train_genomes(genomes, dataset)\n",
    "\n",
    "        #get the average accuracy for this generation\n",
    "        average_accuracy = get_average_accuracy(genomes)\n",
    "\n",
    "        #print out the average accuracy each generation\n",
    "        logging.info(\"Generation average: %.2f%%\" % (average_accuracy * 100))\n",
    "        logging.info('-'*80) #-----------\n",
    "\n",
    "        #evolve, except on the last iteration\n",
    "        if i != generations - 1:\n",
    "            genomes = evolver.evolve(genomes)\n",
    "\n",
    "    #sort our final population according to performance\n",
    "    genomes = sorted(genomes, key=lambda x: x.accuracy, reverse=True)\n",
    "\n",
    "    #print out the top 5 genomes\n",
    "    print_genomes(genomes[:5])"
   ]
  },
  {
   "cell_type": "code",
   "execution_count": null,
   "metadata": {},
   "outputs": [],
   "source": [
    "def print_genomes(genomes):\n",
    "    \"\"\"Print a list of genomes.\n",
    "\n",
    "    Args:\n",
    "        genomes (list): The population of genomes\n",
    "\n",
    "    \"\"\"\n",
    "    logging.info('-'*80)\n",
    "\n",
    "    for genome in genomes:\n",
    "        genome.print_genome()"
   ]
  },
  {
   "cell_type": "code",
   "execution_count": null,
   "metadata": {
    "scrolled": true
   },
   "outputs": [],
   "source": [
    "def main():\n",
    "    population = 20 #number of genomes in each generation\n",
    "    \n",
    "    dataset = 'malaria'\n",
    "\n",
    "    print(\"***Dataset:\", dataset)\n",
    "    \n",
    "    generations = 10 #number of times to evolve the population\n",
    "    \n",
    "    all_possible_genes = {\n",
    "        'dense': [256, 512], \n",
    "        'conv_dropout': [0.25, 0.5],\n",
    "        'dropout': [0.25, 0.5],\n",
    "        'activation': ['relu', 'elu', 'tanh', 'sigmoid', 'hard_sigmoid', 'softplus', 'linear'],\n",
    "        'optimizer':  ['rmsprop', 'adam', 'sgd', 'adagrad', 'adadelta', 'adamax', 'nadam']\n",
    "    }\n",
    "            \n",
    "    print(\"***Evolving for %d generations with population size = %d***\" % (generations, population))\n",
    "\n",
    "    generate(generations, population, all_possible_genes, dataset)\n",
    "\n",
    "if __name__ == '__main__':\n",
    "    main()"
   ]
  }
 ],
 "metadata": {
  "kernelspec": {
   "display_name": "Python 3",
   "language": "python",
   "name": "python3"
  },
  "language_info": {
   "codemirror_mode": {
    "name": "ipython",
    "version": 3
   },
   "file_extension": ".py",
   "mimetype": "text/x-python",
   "name": "python",
   "nbconvert_exporter": "python",
   "pygments_lexer": "ipython3",
   "version": "3.7.1"
  }
 },
 "nbformat": 4,
 "nbformat_minor": 2
}
