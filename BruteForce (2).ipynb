{
 "cells": [
  {
   "cell_type": "code",
   "execution_count": null,
   "metadata": {},
   "outputs": [],
   "source": [
    "#install talos and opencv-python if not done before\n",
    "\n",
    "!pip install -q --user talos\n",
    "!pip install opencv-python\n",
    "\n",
    "#install tensorflow-gpu version 1.12.0. Make sure you run Python 3.6 with Cuda 9.0\n",
    "\n",
    "!pip install tensorflow-gpu == 1.12.0"
   ]
  },
  {
   "cell_type": "code",
   "execution_count": null,
   "metadata": {},
   "outputs": [],
   "source": [
    "#import modules\n",
    "\n",
    "import os\n",
    "import numpy as np\n",
    "import scipy\n",
    "import cv2\n",
    "from PIL import Image\n",
    "import itertools\n",
    "from keras.models import Sequential, model_from_json\n",
    "from keras.layers import Dense, Conv2D, Dropout, BatchNormalization, GlobalAveragePooling2D, MaxPooling2D, Flatten, Activation\n",
    "from keras.activations import softmax\n",
    "from keras.losses import categorical_crossentropy\n",
    "from keras.utils import np_utils\n",
    "from keras.optimizers import Adam, SGD, RMSprop, Adagrad, Adadelta, Adamax, Nadam\n",
    "import talos as ta\n",
    "from talos.model.normalizers import lr_normalizer"
   ]
  },
  {
   "cell_type": "code",
   "execution_count": null,
   "metadata": {},
   "outputs": [],
   "source": [
    "#set paths to images\n",
    "\n",
    "infected_path = 'C:/Users/mikes/Desktop/milou/Natural Computing/cell_images/Parasitized/' \n",
    "uninfected_path = 'C:/Users/mikes/Desktop/milou/Natural Computing/cell_images/Uninfected/'"
   ]
  },
  {
   "cell_type": "code",
   "execution_count": null,
   "metadata": {},
   "outputs": [],
   "source": [
    "#load and preprocess (i.e., resize) images. Code adapted from the following kaggle kernel: \n",
    "#https://www.kaggle.com/kushal1996/detecting-malaria-cnn\n",
    "\n",
    "infected = os.listdir(infected_path) \n",
    "uninfected = os.listdir(uninfected_path)\n",
    "\n",
    "data = []\n",
    "labels = []\n",
    "    \n",
    "for i in infected:\n",
    "    try:\n",
    "\n",
    "        image = cv2.imread(infected_path+i)\n",
    "        image_array = Image.fromarray(image , 'RGB')\n",
    "        resize_img = image_array.resize((100 , 100))\n",
    "        data.append(np.array(resize_img))\n",
    "        labels.append(1)\n",
    "            \n",
    "    except AttributeError:\n",
    "        print('')\n",
    "    \n",
    "for u in uninfected:\n",
    "    try:\n",
    "\n",
    "        image = cv2.imread(uninfected_path+u)\n",
    "        image_array = Image.fromarray(image , 'RGB')\n",
    "        resize_img = image_array.resize((100 , 100))\n",
    "        data.append(np.array(resize_img))\n",
    "        labels.append(0)\n",
    "\n",
    "    except AttributeError:\n",
    "        print('')\n",
    "    \n",
    "cells = np.array(data)\n",
    "labels = np.array(labels)\n",
    "\n",
    "np.save('Cells' , cells)\n",
    "np.save('Labels' , labels)\n",
    "    \n",
    "n = np.arange(cells.shape[0])\n",
    "np.random.shuffle(n)\n",
    "cells = cells[n]\n",
    "labels = labels[n]\n",
    "\n",
    "nb_classes = 2 \n",
    "\n",
    "labels = np_utils.to_categorical(labels, nb_classes)\n",
    "\n",
    "input_shape = cells.shape[1:]\n",
    "   \n",
    "cells = cells.astype('float32')\n",
    "cells /= 255"
   ]
  },
  {
   "cell_type": "code",
   "execution_count": null,
   "metadata": {},
   "outputs": [],
   "source": [
    "#set channel, batch_size and epochs parameters\n",
    "\n",
    "channel = 3 \n",
    "batch_size = 32\n",
    "epochs = 3"
   ]
  },
  {
   "cell_type": "code",
   "execution_count": null,
   "metadata": {},
   "outputs": [],
   "source": [
    "#declare the base architecture and parameters to optimize in the custom model. Code adapted from the github page:\n",
    "#https://github.com/sivaramakrishnan-rajaraman/\n",
    "#Deep-Neural-Ensembles-toward-Malaria-Parasite-Detection-in-Thin-Blood-Smear-Images/blob/master/custom_cnn_optimization.ipynb\n",
    "\n",
    "def custom_model_fn(X_train, Y_train, X_test, Y_test, params):\n",
    "    conv_dropout = float(params['conv_dropout'])\n",
    "    dense1_neuron = int(params['dense1_neuron'])\n",
    "    model = Sequential()\n",
    "    model.add(BatchNormalization(input_shape=X_train.shape[1:]))\n",
    "    model.add(Conv2D(64, (5, 5), padding='same', activation=params['activation']))\n",
    "    model.add(MaxPooling2D(pool_size=(2, 2), strides=(2,2)))\n",
    "    model.add(Dropout(conv_dropout))\n",
    "\n",
    "    model.add(BatchNormalization(input_shape=X_train.shape[1:]))\n",
    "    model.add(Conv2D(128, (5, 5), padding='same', activation=params['activation']))\n",
    "    model.add(MaxPooling2D(pool_size=(2, 2)))\n",
    "    model.add(Dropout(conv_dropout))\n",
    "\n",
    "    model.add(BatchNormalization(input_shape=X_train.shape[1:]))\n",
    "    model.add(Conv2D(256, (5, 5), padding='same', activation=params['activation']))\n",
    "    model.add(MaxPooling2D(pool_size=(2, 2), strides=(2,2)))\n",
    "    model.add(Dropout(conv_dropout))\n",
    "\n",
    "    model.add(GlobalAveragePooling2D())\n",
    "    model.add(Dense(dense1_neuron))\n",
    "    model.add(Activation(params['activation']))\n",
    "    model.add(Dropout(params['dropout']))\n",
    "    model.add(Dense(2))\n",
    "    model.add(Activation('softmax'))\n",
    "    model.compile(optimizer=params['optimizer'](), loss='categorical_crossentropy',metrics=['accuracy'])\n",
    "    \n",
    "    out = model.fit(\n",
    "        X_train, Y_train, epochs=epochs, batch_size=batch_size, \n",
    "        verbose=1,\n",
    "        validation_data=[X_test, Y_test]\n",
    "    )\n",
    "    \n",
    "    return out, model"
   ]
  },
  {
   "cell_type": "code",
   "execution_count": null,
   "metadata": {},
   "outputs": [],
   "source": [
    "#declare the parameters to optimize. Code adapted from the github page:\n",
    "#https://github.com/sivaramakrishnan-rajaraman/\n",
    "#Deep-Neural-Ensembles-toward-Malaria-Parasite-Detection-in-Thin-Blood-Smear-Images/blob/master/custom_cnn_optimization.ipynb\n",
    "\n",
    "para = {\n",
    "    'dense1_neuron': [256, 512],\n",
    "    'activation': ['relu', 'elu', 'tanh', 'sigmoid', 'hard_sigmoid','softplus','linear'],\n",
    "    'conv_dropout': [0.25, 0.5],\n",
    "    'optimizer':  [Adam, SGD, RMSprop, Adagrad, Adadelta, Adamax, Nadam],\n",
    "    'dropout': [0.25, 0.5]\n",
    "}"
   ]
  },
  {
   "cell_type": "code",
   "execution_count": null,
   "metadata": {},
   "outputs": [],
   "source": [
    "#run the experiment with talosCode adapted from the github page:\n",
    "#https://github.com/sivaramakrishnan-rajaraman/\n",
    "#Deep-Neural-Ensembles-toward-Malaria-Parasite-Detection-in-Thin-Blood-Smear-Images/blob/master/custom_cnn_optimization.ipynb\n",
    "\n",
    "scan_results = ta.Scan(cells, labels, para, custom_model_fn)"
   ]
  },
  {
   "cell_type": "code",
   "execution_count": null,
   "metadata": {},
   "outputs": [],
   "source": [
    "#get the model ID that gives the best values for validation accuracy. Code copied from the github page:\n",
    "#https://github.com/sivaramakrishnan-rajaraman/\n",
    "#Deep-Neural-Ensembles-toward-Malaria-Parasite-Detection-in-Thin-Blood-Smear-Images/blob/master/custom_cnn_optimization.ipynb\n",
    "\n",
    "model_id = scan_results.data['val_acc'].astype('float').argmax() - 1\n",
    "model_id + 1"
   ]
  },
  {
   "cell_type": "code",
   "execution_count": null,
   "metadata": {},
   "outputs": [],
   "source": [
    "#load the best model. Code copied from the github page:\n",
    "#https://github.com/sivaramakrishnan-rajaraman/\n",
    "#Deep-Neural-Ensembles-toward-Malaria-Parasite-Detection-in-Thin-Blood-Smear-Images/blob/master/custom_cnn_optimization.ipynb\n",
    "\n",
    "model = model_from_json(scan_results.saved_models[model_id])\n",
    "model.set_weights(scan_results.saved_weights[model_id])\n",
    "model.summary()"
   ]
  },
  {
   "cell_type": "code",
   "execution_count": null,
   "metadata": {},
   "outputs": [],
   "source": [
    "#get the validation accuracy of the best model. Code copied from the github page:\n",
    "#https://github.com/sivaramakrishnan-rajaraman/\n",
    "#Deep-Neural-Ensembles-toward-Malaria-Parasite-Detection-in-Thin-Blood-Smear-Images/blob/master/custom_cnn_optimization.ipynb\n",
    "\n",
    "report.high('val_acc')"
   ]
  },
  {
   "cell_type": "code",
   "execution_count": null,
   "metadata": {},
   "outputs": [],
   "source": [
    "#save the model. Code copied from the github page:\n",
    "#https://github.com/sivaramakrishnan-rajaraman/\n",
    "#Deep-Neural-Ensembles-toward-Malaria-Parasite-Detection-in-Thin-Blood-Smear-Images/blob/master/custom_cnn_optimization.ipynb\n",
    "\n",
    "model.save('best_model.h5')"
   ]
  }
 ],
 "metadata": {
  "kernelspec": {
   "display_name": "Python 3",
   "language": "python",
   "name": "python3"
  },
  "language_info": {
   "codemirror_mode": {
    "name": "ipython",
    "version": 3
   },
   "file_extension": ".py",
   "mimetype": "text/x-python",
   "name": "python",
   "nbconvert_exporter": "python",
   "pygments_lexer": "ipython3",
   "version": "3.7.1"
  }
 },
 "nbformat": 4,
 "nbformat_minor": 2
}
